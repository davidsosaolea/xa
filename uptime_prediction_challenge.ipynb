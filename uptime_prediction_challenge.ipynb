{
 "cells": [
  {
   "cell_type": "markdown",
   "metadata": {},
   "source": [
    "# Predicción de Fallas para un equipo minero \n"
   ]
  },
  {
   "cell_type": "markdown",
   "metadata": {},
   "source": [
    "\n",
    "## Introducción\n",
    "\n",
    "Hola! Es un honor para nosotros que estés participando en este desafío, en este notebook te vamos a explicar todo lo que necesitas saber para empezar a trabajar. \n",
    "\n",
    "Junto con este notebook, encontrarás tres archivos adicionales: `data_aceites.csv`, `data_sensores.csv` y `uptime.csv`. El archivo `data_aceites.csv` contiene datos de análisis de aceite de un equipo minero, el archivo `data_sensores.csv` contiene datos de sensores del mismo equipo y el archivo `uptime.csv` contiene información sobre el tiempo de detenciones del equipo. Estos datos están anoniomizados, pero son datos reales que corresponden a un único equipo minero y a un solo modo de falla.\n",
    "\n",
    "El objetivo de este desafío es predecir fallas en el equipo minero. Para esto, deberás utilizar los datos de análisis de aceite, los datos de sensores.\n"
   ]
  },
  {
   "cell_type": "markdown",
   "metadata": {},
   "source": [
    "\n",
    "## Estructura de los datos\n",
    "\n",
    "### `data_aceites.csv`\n",
    "\n",
    "Este archivo contiene datos de análisis de aceite del equipo minero. De importancia, tenemos las columnas \"Tag de compartimento\" y \"Fecha Muestreo\" que corresponden a un identificador de un compartimiento de aceite y la fecha de en la que se tomo la muestra, respectivamente. Las demás columnas corresponden a los resultados de los análisis de aceite, están están anonimizadas. Estas no tienen una frecuencia de muestreo fija.\n",
    "\n",
    "\n",
    "### `data_sensores.feather`\n",
    "\n",
    "Este archivo contiene datos de sensores del equipo minero. Aquí solo tenemos la columna \"Fecha\" que corresponde a la fecha en la que se tomaron los datos y las demás columnas corresponden a los datos de los sensores, que están anonimizados. Estás tienen una frecuencia de muestreo de 5 minutos.\n",
    "\n",
    "Se puede encontrar el data en:\n",
    "https://drive.google.com/file/d/1W6tmk95HiYm_xDLCZ2s22qGjl-09e8Z9\n",
    "\n",
    "\n",
    "### `uptime.csv`\n",
    "\n",
    "Este archivo contiene información sobre el tiempo de operación del equipo, en particular contiene 11 detenciones reactivas (i.e. fallas) asosiadas a un modo de falla en particular. De importancia, tenemos las columnas \"FECHA DE INICIO\" y \"FECHA FINAL\" que corresponden a la fecha de inicio y fin de la detención, respectivamente, junto con \"TIEMPO\" que posee la duración de la detención en horas.\n",
    "\n",
    "Notemos que esta es el archivo que nos entregará la función objetivo del problema, pero también contiene información útil. \n"
   ]
  },
  {
   "cell_type": "markdown",
   "metadata": {},
   "source": [
    "\n",
    "## Objetivo\n",
    "\n",
    "El objetivo de este desafío es predecir fallas en el equipo minero. Para esto, deberás utilizar los datos de análisis de aceite, los datos de sensores y el tiempo de operación del equipo. Queremos destacar que, más que los resultados de la predicción, **nos interesa el proceso que sigues para llegar a ellos**. Por lo que, te pedimos que nos cuentes un poco sobre tu proceso y que nos expliques tus decisiones en comentarios en el código.\n",
    "\n",
    "Recomendamos hacer un analisis exploratorio de los datos, luego un preprocesamiento de los datos y finalmente entrenar un modelo de machine learning para predecir fallas en el equipo minero.\n",
    "\n",
    "Te pedimos usar modelos de XGBoost y Random Forest para hacer predicciones, pero además deberás utilizar otro modelo (deep learining, Minirocket) de forma adicional. Además de cualquier técnica de preprocesamiento o feature engineering que consideres necesaria.\n",
    "\n",
    "Para reiterar, nos interesa que nos entregues al menos 3 modelos de predicción, uno de XGBoost, uno de Random Forest y otro modelo adicional de tu preferencia. Además, nos interesa que nos entregues un análisis de los datos y que nos expliques tus decisiones en comentarios en el código.\n"
   ]
  },
  {
   "cell_type": "markdown",
   "metadata": {},
   "source": [
    "\n",
    "## Entregable\n",
    "\n",
    "El entregable de este desafío debe ser un notebook de Jupyter con extensión .ipynb que contenga el código y los comentarios que explican tu proceso. Notaras que en ningún momento entregamos un formato específico para la predicción, esto es intencional, ya que nos interesa ver tu proceso y tus decisiones al momento de abordar el problema.\n",
    "\n",
    "A pesar de que no se evaluará la _performance_ de tu modelo directamente, te pedimos que nos entregues un análisis de los resultados de tus modelos y que nos cuentes sobre tu proceso. \n",
    "\n",
    "Ante cualquier duda o consulta, no dudes en contactarnos a reclutamiento@x-analytic.com.\n",
    "\n"
   ]
  },
  {
   "cell_type": "markdown",
   "metadata": {},
   "source": [
    "# Hints \n",
    "\n",
    "En las siguientes celdas te dejamos un par de hints que te pueden ser útiles para abordar el desafío."
   ]
  },
  {
   "cell_type": "markdown",
   "metadata": {
    "vscode": {
     "languageId": "plaintext"
    }
   },
   "source": [
    "\n",
    "\n",
    "\n",
    "Utiliza resampling de data si crees necesaria, sobre todo en los aceites que son de diferente naturaleza que los sensores, ve si agregarlos en tus modelos mejora tus kpis de performance y como imputando valores intremedios puede tener un afecto en ellos"
   ]
  },
  {
   "cell_type": "markdown",
   "metadata": {},
   "source": [
    "Los datos en `uptime.csv` no son solo la función objetivo, sino que también nos entrega cuanto tiempo la máquina lleva sin fallar en ese modo de falla."
   ]
  }
 ],
 "metadata": {
  "language_info": {
   "name": "python"
  }
 },
 "nbformat": 4,
 "nbformat_minor": 2
}
